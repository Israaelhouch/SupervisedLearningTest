{
 "cells": [
  {
   "cell_type": "code",
   "execution_count": 138,
   "metadata": {},
   "outputs": [],
   "source": [
    "import pandas as pd \n",
    "import matplotlib.pyplot as plt\n",
    "import seaborn as sns \n"
   ]
  },
  {
   "cell_type": "code",
   "execution_count": 139,
   "metadata": {},
   "outputs": [
    {
     "data": {
      "text/html": [
       "<div>\n",
       "<style scoped>\n",
       "    .dataframe tbody tr th:only-of-type {\n",
       "        vertical-align: middle;\n",
       "    }\n",
       "\n",
       "    .dataframe tbody tr th {\n",
       "        vertical-align: top;\n",
       "    }\n",
       "\n",
       "    .dataframe thead th {\n",
       "        text-align: right;\n",
       "    }\n",
       "</style>\n",
       "<table border=\"1\" class=\"dataframe\">\n",
       "  <thead>\n",
       "    <tr style=\"text-align: right;\">\n",
       "      <th></th>\n",
       "      <th>TV</th>\n",
       "      <th>Radio</th>\n",
       "      <th>Newspaper</th>\n",
       "      <th>Sales</th>\n",
       "    </tr>\n",
       "  </thead>\n",
       "  <tbody>\n",
       "    <tr>\n",
       "      <th>0</th>\n",
       "      <td>230.1</td>\n",
       "      <td>37.8</td>\n",
       "      <td>69.2</td>\n",
       "      <td>22.1</td>\n",
       "    </tr>\n",
       "    <tr>\n",
       "      <th>1</th>\n",
       "      <td>44.5</td>\n",
       "      <td>39.3</td>\n",
       "      <td>45.1</td>\n",
       "      <td>10.4</td>\n",
       "    </tr>\n",
       "    <tr>\n",
       "      <th>2</th>\n",
       "      <td>17.2</td>\n",
       "      <td>45.9</td>\n",
       "      <td>69.3</td>\n",
       "      <td>12.0</td>\n",
       "    </tr>\n",
       "    <tr>\n",
       "      <th>3</th>\n",
       "      <td>151.5</td>\n",
       "      <td>41.3</td>\n",
       "      <td>58.5</td>\n",
       "      <td>16.5</td>\n",
       "    </tr>\n",
       "    <tr>\n",
       "      <th>4</th>\n",
       "      <td>180.8</td>\n",
       "      <td>10.8</td>\n",
       "      <td>58.4</td>\n",
       "      <td>17.9</td>\n",
       "    </tr>\n",
       "    <tr>\n",
       "      <th>...</th>\n",
       "      <td>...</td>\n",
       "      <td>...</td>\n",
       "      <td>...</td>\n",
       "      <td>...</td>\n",
       "    </tr>\n",
       "    <tr>\n",
       "      <th>195</th>\n",
       "      <td>38.2</td>\n",
       "      <td>3.7</td>\n",
       "      <td>13.8</td>\n",
       "      <td>7.6</td>\n",
       "    </tr>\n",
       "    <tr>\n",
       "      <th>196</th>\n",
       "      <td>94.2</td>\n",
       "      <td>4.9</td>\n",
       "      <td>8.1</td>\n",
       "      <td>14.0</td>\n",
       "    </tr>\n",
       "    <tr>\n",
       "      <th>197</th>\n",
       "      <td>177.0</td>\n",
       "      <td>9.3</td>\n",
       "      <td>6.4</td>\n",
       "      <td>14.8</td>\n",
       "    </tr>\n",
       "    <tr>\n",
       "      <th>198</th>\n",
       "      <td>283.6</td>\n",
       "      <td>42.0</td>\n",
       "      <td>66.2</td>\n",
       "      <td>25.5</td>\n",
       "    </tr>\n",
       "    <tr>\n",
       "      <th>199</th>\n",
       "      <td>232.1</td>\n",
       "      <td>8.6</td>\n",
       "      <td>8.7</td>\n",
       "      <td>18.4</td>\n",
       "    </tr>\n",
       "  </tbody>\n",
       "</table>\n",
       "<p>200 rows × 4 columns</p>\n",
       "</div>"
      ],
      "text/plain": [
       "        TV  Radio  Newspaper  Sales\n",
       "0    230.1   37.8       69.2   22.1\n",
       "1     44.5   39.3       45.1   10.4\n",
       "2     17.2   45.9       69.3   12.0\n",
       "3    151.5   41.3       58.5   16.5\n",
       "4    180.8   10.8       58.4   17.9\n",
       "..     ...    ...        ...    ...\n",
       "195   38.2    3.7       13.8    7.6\n",
       "196   94.2    4.9        8.1   14.0\n",
       "197  177.0    9.3        6.4   14.8\n",
       "198  283.6   42.0       66.2   25.5\n",
       "199  232.1    8.6        8.7   18.4\n",
       "\n",
       "[200 rows x 4 columns]"
      ]
     },
     "execution_count": 139,
     "metadata": {},
     "output_type": "execute_result"
    }
   ],
   "source": [
    "df = pd.read_csv(\"advertising.csv\")\n",
    "df_original = df.copy()\n",
    "df_original"
   ]
  },
  {
   "cell_type": "markdown",
   "metadata": {},
   "source": [
    "# Data Exploration"
   ]
  },
  {
   "cell_type": "code",
   "execution_count": 140,
   "metadata": {},
   "outputs": [
    {
     "name": "stdout",
     "output_type": "stream",
     "text": [
      "First 5 rows of the dataset:\n",
      "      TV  Radio  Newspaper  Sales\n",
      "0  230.1   37.8       69.2   22.1\n",
      "1   44.5   39.3       45.1   10.4\n",
      "2   17.2   45.9       69.3   12.0\n",
      "3  151.5   41.3       58.5   16.5\n",
      "4  180.8   10.8       58.4   17.9\n"
     ]
    }
   ],
   "source": [
    "# Display the first few rows of the dataset\n",
    "print(\"First 5 rows of the dataset:\")\n",
    "print(df.head())"
   ]
  },
  {
   "cell_type": "code",
   "execution_count": 141,
   "metadata": {},
   "outputs": [
    {
     "name": "stdout",
     "output_type": "stream",
     "text": [
      "\n",
      "Last 5 rows of the dataset:\n",
      "        TV  Radio  Newspaper  Sales\n",
      "195   38.2    3.7       13.8    7.6\n",
      "196   94.2    4.9        8.1   14.0\n",
      "197  177.0    9.3        6.4   14.8\n",
      "198  283.6   42.0       66.2   25.5\n",
      "199  232.1    8.6        8.7   18.4\n"
     ]
    }
   ],
   "source": [
    "# Display the last few rows of the dataset\n",
    "print(\"\\nLast 5 rows of the dataset:\")\n",
    "print(df.tail())"
   ]
  },
  {
   "cell_type": "code",
   "execution_count": 142,
   "metadata": {},
   "outputs": [
    {
     "name": "stdout",
     "output_type": "stream",
     "text": [
      "\n",
      "Basic information about the dataset:\n",
      "<class 'pandas.core.frame.DataFrame'>\n",
      "RangeIndex: 200 entries, 0 to 199\n",
      "Data columns (total 4 columns):\n",
      " #   Column     Non-Null Count  Dtype  \n",
      "---  ------     --------------  -----  \n",
      " 0   TV         200 non-null    float64\n",
      " 1   Radio      200 non-null    float64\n",
      " 2   Newspaper  200 non-null    float64\n",
      " 3   Sales      200 non-null    float64\n",
      "dtypes: float64(4)\n",
      "memory usage: 6.4 KB\n",
      "None\n"
     ]
    }
   ],
   "source": [
    "# Display the basic information about the dataset (column names, non-null counts, data types)\n",
    "print(\"\\nBasic information about the dataset:\")\n",
    "print(df.info())"
   ]
  },
  {
   "cell_type": "code",
   "execution_count": 143,
   "metadata": {},
   "outputs": [
    {
     "name": "stdout",
     "output_type": "stream",
     "text": [
      "\n",
      "Missing values in each column:\n",
      "TV           0\n",
      "Radio        0\n",
      "Newspaper    0\n",
      "Sales        0\n",
      "dtype: int64\n"
     ]
    }
   ],
   "source": [
    "# Check for missing values\n",
    "print(\"\\nMissing values in each column:\")\n",
    "print(df.isnull().sum())"
   ]
  },
  {
   "cell_type": "code",
   "execution_count": 144,
   "metadata": {},
   "outputs": [
    {
     "name": "stdout",
     "output_type": "stream",
     "text": [
      "\n",
      "Shape of the dataset (rows, columns):\n",
      "(200, 4)\n"
     ]
    }
   ],
   "source": [
    "# Check the shape of the dataset (number of rows and columns)\n",
    "print(\"\\nShape of the dataset (rows, columns):\")\n",
    "print(df.shape)"
   ]
  },
  {
   "cell_type": "code",
   "execution_count": 145,
   "metadata": {},
   "outputs": [
    {
     "name": "stdout",
     "output_type": "stream",
     "text": [
      "\n",
      "Data types of each column:\n",
      "TV           float64\n",
      "Radio        float64\n",
      "Newspaper    float64\n",
      "Sales        float64\n",
      "dtype: object\n"
     ]
    }
   ],
   "source": [
    "# Display the data types of each column\n",
    "print(\"\\nData types of each column:\")\n",
    "print(df.dtypes)"
   ]
  },
  {
   "cell_type": "code",
   "execution_count": 146,
   "metadata": {},
   "outputs": [
    {
     "name": "stdout",
     "output_type": "stream",
     "text": [
      "\n",
      "Unique values per column:\n",
      "TV           190\n",
      "Radio        167\n",
      "Newspaper    172\n",
      "Sales        121\n",
      "dtype: int64\n"
     ]
    }
   ],
   "source": [
    "# Display the number of unique values per column\n",
    "print(\"\\nUnique values per column:\")\n",
    "print(df.nunique())"
   ]
  },
  {
   "cell_type": "code",
   "execution_count": 147,
   "metadata": {},
   "outputs": [
    {
     "name": "stderr",
     "output_type": "stream",
     "text": [
      "/var/folders/j0/slzgff05495c7m5nvwd2_tn40000gn/T/ipykernel_2158/3393480917.py:5: FutureWarning: \n",
      "\n",
      "Passing `palette` without assigning `hue` is deprecated and will be removed in v0.14.0. Assign the `x` variable to `hue` and set `legend=False` for the same effect.\n",
      "\n",
      "  sns.boxplot(y='TV' , data=df, palette='Blues_d')\n",
      "/var/folders/j0/slzgff05495c7m5nvwd2_tn40000gn/T/ipykernel_2158/3393480917.py:10: FutureWarning: \n",
      "\n",
      "Passing `palette` without assigning `hue` is deprecated and will be removed in v0.14.0. Assign the `x` variable to `hue` and set `legend=False` for the same effect.\n",
      "\n",
      "  sns.boxplot(y='Radio' , data=df, palette='Blues_d')\n",
      "/var/folders/j0/slzgff05495c7m5nvwd2_tn40000gn/T/ipykernel_2158/3393480917.py:15: FutureWarning: \n",
      "\n",
      "Passing `palette` without assigning `hue` is deprecated and will be removed in v0.14.0. Assign the `x` variable to `hue` and set `legend=False` for the same effect.\n",
      "\n",
      "  sns.boxplot(y='Newspaper' , data=df, palette='Blues_d')\n",
      "/var/folders/j0/slzgff05495c7m5nvwd2_tn40000gn/T/ipykernel_2158/3393480917.py:20: FutureWarning: \n",
      "\n",
      "Passing `palette` without assigning `hue` is deprecated and will be removed in v0.14.0. Assign the `x` variable to `hue` and set `legend=False` for the same effect.\n",
      "\n",
      "  sns.boxplot(y='Sales' , data=df, palette='Blues_d')\n"
     ]
    },
    {
     "data": {
      "image/png": "[encoded data removed]",
      "text/plain": [
       "<Figure size 2000x1500 with 4 Axes>"
      ]
     },
     "metadata": {},
     "output_type": "display_data"
    }
   ],
   "source": [
    "plt.figure(figsize=(20, 15))\n",
    "\n",
    "#Subplot 1:\n",
    "plt.subplot(1, 4, 1)\n",
    "sns.boxplot(y='TV' , data=df, palette='Blues_d')\n",
    "plt.title('TV feature boxplot')\n",
    "\n",
    "# Subplot 2: \n",
    "plt.subplot(1, 4, 2)\n",
    "sns.boxplot(y='Radio' , data=df, palette='Blues_d')\n",
    "plt.title('Radio feature boxplot')\n",
    "\n",
    "# Subplot 3: \n",
    "plt.subplot(1, 4, 3)\n",
    "sns.boxplot(y='Newspaper' , data=df, palette='Blues_d')\n",
    "plt.title('Newspaper feature boxplot')\n",
    "\n",
    "# Subplot 4:\n",
    "plt.subplot(1, 4, 4) \n",
    "sns.boxplot(y='Sales' , data=df, palette='Blues_d')\n",
    "plt.title('Sales feature boxplot')\n",
    "\n",
    "plt.show()"
   ]
  },
  {
   "cell_type": "code",
   "execution_count": 148,
   "metadata": {},
   "outputs": [],
   "source": [
    "#dropping outiers in Newspaper feature\n",
    "df=df[ df[\"Newspaper\"] < 100 ]"
   ]
  },
  {
   "cell_type": "code",
   "execution_count": 149,
   "metadata": {},
   "outputs": [
    {
     "name": "stdout",
     "output_type": "stream",
     "text": [
      "\n",
      "Correlation matrix:\n",
      "                 TV     Radio  Newspaper     Sales\n",
      "TV         1.000000  0.051978   0.049771  0.899974\n",
      "Radio      0.051978  1.000000   0.346364  0.348566\n",
      "Newspaper  0.049771  0.346364   1.000000  0.151764\n",
      "Sales      0.899974  0.348566   0.151764  1.000000\n"
     ]
    }
   ],
   "source": [
    "# Display the correlation matrix (for numerical data)\n",
    "print(\"\\nCorrelation matrix:\")\n",
    "print(df.corr())"
   ]
  },
  {
   "cell_type": "code",
   "execution_count": 150,
   "metadata": {},
   "outputs": [
    {
     "name": "stdout",
     "output_type": "stream",
     "text": [
      " 'TV' feature correlates more with the sales with correlation of  0.899 \n"
     ]
    }
   ],
   "source": [
    "print(\" 'TV' feature correlates more with the sales with correlation of  0.899 \")"
   ]
  },
  {
   "cell_type": "code",
   "execution_count": 151,
   "metadata": {},
   "outputs": [
    {
     "name": "stdout",
     "output_type": "stream",
     "text": [
      "\n",
      "R-squared:\n",
      "0.8099540690272746\n",
      "\n",
      "RMSE:\n",
      "2.2921233300196424\n"
     ]
    },
    {
     "name": "stderr",
     "output_type": "stream",
     "text": [
      "/Users/macmini/Library/Python/3.9/lib/python/site-packages/sklearn/metrics/_regression.py:492: FutureWarning: 'squared' is deprecated in version 1.4 and will be removed in 1.6. To calculate the root mean squared error, use the function'root_mean_squared_error'.\n",
      "  warnings.warn(\n"
     ]
    }
   ],
   "source": [
    "#fit a linear regression model with the chosen feature as input and sales as output\n",
    "from sklearn.linear_model import LinearRegression\n",
    "from sklearn.metrics import mean_squared_error\n",
    "\n",
    "x=df[\"TV\"].values.reshape(-1, 1)\n",
    "y=df[\"Sales\"].values\n",
    "reg = LinearRegression()\n",
    "reg.fit(x, y)\n",
    "predictions = reg.predict(x)\n",
    "\n",
    "\n",
    "print(\"\\nR-squared:\")\n",
    "print(reg.score(x, y))\n",
    "\n",
    "print(\"\\nRMSE:\")\n",
    "print(mean_squared_error(y, predictions, squared=False))\n",
    "\n",
    "\n"
   ]
  },
  {
   "cell_type": "markdown",
   "metadata": {},
   "source": [
    "# Cross-Validation"
   ]
  },
  {
   "cell_type": "code",
   "execution_count": 152,
   "metadata": {},
   "outputs": [
    {
     "name": "stdout",
     "output_type": "stream",
     "text": [
      "[0.85688004 0.83986201 0.60255808 0.80854953 0.79150826 0.83112017]\n",
      "the mean:0.7884130149255543\n",
      "the std:0.08574744780515957\n",
      "quantile:\n",
      "[0.62617686 0.85475278]\n"
     ]
    }
   ],
   "source": [
    "from sklearn.model_selection import cross_val_score, KFold\n",
    "import numpy as np\n",
    "kf = KFold(n_splits=6, shuffle=True, random_state=42)\n",
    "reg = LinearRegression()\n",
    "cv_results = cross_val_score(reg, x, y, cv=kf)\n",
    "print(cv_results)\n",
    "print(\"the mean:\"+str(np.mean(cv_results)))\n",
    "print(\"the std:\"+str(np.std(cv_results)))\n",
    "print(\"quantile:\")\n",
    "print(np.quantile(cv_results, [0.025, 0.975]))"
   ]
  }
 ],
 "metadata": {
  "kernelspec": {
   "display_name": "Python 3",
   "language": "python",
   "name": "python3"
  },
  "language_info": {
   "codemirror_mode": {
    "name": "ipython",
    "version": 3
   },
   "file_extension": ".py",
   "mimetype": "text/x-python",
   "name": "python",
   "nbconvert_exporter": "python",
   "pygments_lexer": "ipython3",
   "version": "3.9.6"
  }
 },
 "nbformat": 4,
 "nbformat_minor": 2
}
